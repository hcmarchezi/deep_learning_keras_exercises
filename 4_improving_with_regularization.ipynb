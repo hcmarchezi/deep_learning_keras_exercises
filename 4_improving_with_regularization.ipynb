{
 "cells": [
  {
   "cell_type": "markdown",
   "metadata": {},
   "source": [
    "# Regularization in Keras NN"
   ]
  },
  {
   "cell_type": "markdown",
   "metadata": {},
   "source": [
    "Regularization is a penalization added to the loss function that increases the loss with the increase of model complexity. \n",
    "\n",
    "Model complexity is measured by one of the following methods: (Keras)\n",
    "* **L1** - sum of absolute values of weights\n",
    "* **L2** - sum of squared values of weights\n",
    "* **ElasticNet** - complexity given by the combination of the 2 techniques above\n",
    "\n",
    "Keras reference: https://keras.io/regularizers/\n",
    "\n",
    "Example below shows how to add regularization to the model:"
   ]
  },
  {
   "cell_type": "code",
   "execution_count": null,
   "metadata": {},
   "outputs": [],
   "source": [
    "from keras import regularizers \n",
    "\n",
    "model.add(Dense(\n",
    "    64, \n",
    "    input_dim=64, \n",
    "    kernel_regularizer=regularizers.l2(0.01)))"
   ]
  },
  {
   "cell_type": "code",
   "execution_count": null,
   "metadata": {},
   "outputs": [],
   "source": []
  }
 ],
 "metadata": {
  "kernelspec": {
   "display_name": "Python 3",
   "language": "python",
   "name": "python3"
  },
  "language_info": {
   "codemirror_mode": {
    "name": "ipython",
    "version": 3
   },
   "file_extension": ".py",
   "mimetype": "text/x-python",
   "name": "python",
   "nbconvert_exporter": "python",
   "pygments_lexer": "ipython3",
   "version": "3.6.4"
  }
 },
 "nbformat": 4,
 "nbformat_minor": 2
}
