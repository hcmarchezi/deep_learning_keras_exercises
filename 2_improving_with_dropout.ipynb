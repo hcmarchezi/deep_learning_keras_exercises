{
 "cells": [
  {
   "cell_type": "markdown",
   "metadata": {},
   "source": [
    "# Improving NN with Dropout"
   ]
  },
  {
   "cell_type": "markdown",
   "metadata": {},
   "source": [
    "The idea is improving baseline (previous trained model) from 94.5% on training, 94.63% on validation and 94.41% on test.\n",
    "\n",
    "Dropout is a regularization technique that consists of ramdonly choosing and killing neurons."
   ]
  },
  {
   "cell_type": "code",
   "execution_count": 47,
   "metadata": {},
   "outputs": [],
   "source": [
    "from __future__ import print_function\n",
    "import numpy as np\n",
    "from keras.datasets import mnist\n",
    "from keras.models import Sequential\n",
    "from keras.layers.core import Dense, Dropout, Activation\n",
    "from keras.optimizers import SGD, RMSprop, Adam\n",
    "from keras.utils import np_utils\n",
    "import time\n",
    "import matplotlib.pyplot as plt\n",
    "\n"
   ]
  },
  {
   "cell_type": "code",
   "execution_count": 48,
   "metadata": {},
   "outputs": [],
   "source": [
    "def plot_keras_history(history, epochs, title):\n",
    "    epoch_count = list(range(1, epochs+1))\n",
    "    plt.title(title)\n",
    "    plt.plot(history.history['loss'])\n",
    "    plt.plot(history.history['val_loss'])\n",
    "    plt.xlabel('epochs')\n",
    "    plt.ylabel('loss')\n",
    "    plt.xticks(epoch_count, epoch_count)\n",
    "    plt.show()"
   ]
  },
  {
   "cell_type": "code",
   "execution_count": 49,
   "metadata": {},
   "outputs": [],
   "source": [
    "def create_model_with_dropouts():\n",
    "    model = Sequential()\n",
    "    model.add(Dense(N_HIDDEN, input_shape=(RESHAPED,)))\n",
    "    model.add(Activation('relu'))\n",
    "    model.add(Dropout(DROPOUT)) # DROPOUT = 0.3\n",
    "    model.add(Dense(N_HIDDEN)) # N_HIDDEN = 128\n",
    "    model.add(Activation('relu'))\n",
    "    model.add(Dropout(DROPOUT)) # DROPOUT = 0.3\n",
    "    model.add(Dense(NB_CLASSES)) # NB_CLASSES = 10\n",
    "    model.add(Activation('softmax'))\n",
    "    return model"
   ]
  },
  {
   "cell_type": "code",
   "execution_count": 50,
   "metadata": {},
   "outputs": [],
   "source": [
    "np.random.seed(1671) # for reproducibility\n",
    "# network and training\n",
    "NB_EPOCH = 20\n",
    "BATCH_SIZE = 128\n",
    "VERBOSE = 1\n",
    "NB_CLASSES = 10 # number of outputs = number of digits\n",
    "OPTIMIZER = Adam(lr=0.001) #RMSprop() #SGD() \n",
    "N_HIDDEN = 128\n",
    "VALIDATION_SPLIT=0.2 # how much TRAIN is reserved for VALIDATION\n",
    "DROPOUT = 0.3\n",
    "RESHAPED = 784"
   ]
  },
  {
   "cell_type": "code",
   "execution_count": 51,
   "metadata": {},
   "outputs": [],
   "source": [
    "(X_train, y_train), (X_test, y_test) = mnist.load_data()\n",
    "X_train = X_train.reshape(60000, RESHAPED)\n",
    "X_test = X_test.reshape(10000, RESHAPED)\n",
    "X_train = X_train.astype('float32')\n",
    "X_test = X_test.astype('float32')\n",
    "# normalize\n",
    "X_train /= 255\n",
    "X_test /= 255\n",
    "# convert class vectors to binary class matrices\n",
    "Y_train = np_utils.to_categorical(y_train, NB_CLASSES)\n",
    "Y_test = np_utils.to_categorical(y_test, NB_CLASSES)"
   ]
  },
  {
   "cell_type": "markdown",
   "metadata": {},
   "source": [
    "### Improving with diferent optimizers\n",
    "Besides improving the neural network loss with dropouts as above, the neural network can be also be improved by trying different epochs and optimizers. The code below shows the effect of trying different optimizers in the same NN architecture with a fixed number of epochs."
   ]
  },
  {
   "cell_type": "code",
   "execution_count": 52,
   "metadata": {},
   "outputs": [
    {
     "name": "stdout",
     "output_type": "stream",
     "text": [
      "Train on 48000 samples, validate on 12000 samples\n",
      "Epoch 1/20\n",
      "48000/48000 [==============================] - 2s 38us/step - loss: 1.7404 - acc: 0.4538 - val_loss: 0.9292 - val_acc: 0.8124\n",
      "Epoch 2/20\n",
      "48000/48000 [==============================] - 1s 29us/step - loss: 0.9231 - acc: 0.7228 - val_loss: 0.5400 - val_acc: 0.8653\n",
      "Epoch 3/20\n",
      "48000/48000 [==============================] - 1s 30us/step - loss: 0.6935 - acc: 0.7882 - val_loss: 0.4297 - val_acc: 0.8883\n",
      "Epoch 4/20\n",
      "48000/48000 [==============================] - 1s 29us/step - loss: 0.5947 - acc: 0.8208 - val_loss: 0.3790 - val_acc: 0.8977\n",
      "Epoch 5/20\n",
      "48000/48000 [==============================] - 1s 30us/step - loss: 0.5346 - acc: 0.8392 - val_loss: 0.3455 - val_acc: 0.9038\n",
      "Epoch 6/20\n",
      "48000/48000 [==============================] - 1s 29us/step - loss: 0.4976 - acc: 0.8525 - val_loss: 0.3232 - val_acc: 0.9107\n",
      "Epoch 7/20\n",
      "48000/48000 [==============================] - 1s 30us/step - loss: 0.4616 - acc: 0.8628 - val_loss: 0.3048 - val_acc: 0.9130\n",
      "Epoch 8/20\n",
      "48000/48000 [==============================] - 1s 30us/step - loss: 0.4385 - acc: 0.8689 - val_loss: 0.2896 - val_acc: 0.9172\n",
      "Epoch 9/20\n",
      "48000/48000 [==============================] - 1s 30us/step - loss: 0.4181 - acc: 0.8762 - val_loss: 0.2776 - val_acc: 0.9198\n",
      "Epoch 10/20\n",
      "48000/48000 [==============================] - 1s 30us/step - loss: 0.3990 - acc: 0.8838 - val_loss: 0.2656 - val_acc: 0.9233\n",
      "Epoch 11/20\n",
      "48000/48000 [==============================] - 1s 30us/step - loss: 0.3819 - acc: 0.8876 - val_loss: 0.2551 - val_acc: 0.9258\n",
      "Epoch 12/20\n",
      "48000/48000 [==============================] - 1s 30us/step - loss: 0.3688 - acc: 0.8922 - val_loss: 0.2465 - val_acc: 0.9283\n",
      "Epoch 13/20\n",
      "48000/48000 [==============================] - 1s 30us/step - loss: 0.3571 - acc: 0.8942 - val_loss: 0.2388 - val_acc: 0.9300\n",
      "Epoch 14/20\n",
      "48000/48000 [==============================] - 1s 30us/step - loss: 0.3466 - acc: 0.8992 - val_loss: 0.2319 - val_acc: 0.9324\n",
      "Epoch 15/20\n",
      "48000/48000 [==============================] - 1s 30us/step - loss: 0.3358 - acc: 0.9015 - val_loss: 0.2261 - val_acc: 0.9338\n",
      "Epoch 16/20\n",
      "48000/48000 [==============================] - 1s 30us/step - loss: 0.3244 - acc: 0.9056 - val_loss: 0.2180 - val_acc: 0.9352\n",
      "Epoch 17/20\n",
      "48000/48000 [==============================] - 1s 30us/step - loss: 0.3142 - acc: 0.9086 - val_loss: 0.2121 - val_acc: 0.9376\n",
      "Epoch 18/20\n",
      "48000/48000 [==============================] - 1s 30us/step - loss: 0.3102 - acc: 0.9095 - val_loss: 0.2075 - val_acc: 0.9392\n",
      "Epoch 19/20\n",
      "48000/48000 [==============================] - 1s 29us/step - loss: 0.3019 - acc: 0.9118 - val_loss: 0.2018 - val_acc: 0.9409\n",
      "Epoch 20/20\n",
      "48000/48000 [==============================] - 1s 30us/step - loss: 0.2931 - acc: 0.9130 - val_loss: 0.1974 - val_acc: 0.9420\n",
      "10000/10000 [==============================] - 0s 25us/step\n",
      "Train on 48000 samples, validate on 12000 samples\n",
      "Epoch 1/20\n",
      "48000/48000 [==============================] - 2s 42us/step - loss: 0.4787 - acc: 0.8582 - val_loss: 0.1845 - val_acc: 0.9451\n",
      "Epoch 2/20\n",
      "48000/48000 [==============================] - 2s 32us/step - loss: 0.2256 - acc: 0.9330 - val_loss: 0.1338 - val_acc: 0.9607\n",
      "Epoch 3/20\n",
      "48000/48000 [==============================] - 2s 33us/step - loss: 0.1719 - acc: 0.9492 - val_loss: 0.1224 - val_acc: 0.9632\n",
      "Epoch 4/20\n",
      "48000/48000 [==============================] - 2s 33us/step - loss: 0.1468 - acc: 0.9570 - val_loss: 0.1025 - val_acc: 0.9710\n",
      "Epoch 5/20\n",
      "48000/48000 [==============================] - 2s 33us/step - loss: 0.1282 - acc: 0.9616 - val_loss: 0.1053 - val_acc: 0.9692\n",
      "Epoch 6/20\n",
      "48000/48000 [==============================] - 2s 32us/step - loss: 0.1139 - acc: 0.9663 - val_loss: 0.0974 - val_acc: 0.9734\n",
      "Epoch 7/20\n",
      "48000/48000 [==============================] - 2s 33us/step - loss: 0.1060 - acc: 0.9687 - val_loss: 0.0974 - val_acc: 0.9744\n",
      "Epoch 8/20\n",
      "48000/48000 [==============================] - 2s 33us/step - loss: 0.1012 - acc: 0.9698 - val_loss: 0.0969 - val_acc: 0.9750\n",
      "Epoch 9/20\n",
      "48000/48000 [==============================] - 2s 33us/step - loss: 0.0966 - acc: 0.9712 - val_loss: 0.1003 - val_acc: 0.9747\n",
      "Epoch 10/20\n",
      "48000/48000 [==============================] - 2s 34us/step - loss: 0.0917 - acc: 0.9731 - val_loss: 0.0922 - val_acc: 0.9753\n",
      "Epoch 11/20\n",
      "48000/48000 [==============================] - 2s 34us/step - loss: 0.0878 - acc: 0.9737 - val_loss: 0.0959 - val_acc: 0.9767\n",
      "Epoch 12/20\n",
      "48000/48000 [==============================] - 2s 33us/step - loss: 0.0830 - acc: 0.9751 - val_loss: 0.0965 - val_acc: 0.9759\n",
      "Epoch 13/20\n",
      "48000/48000 [==============================] - 2s 33us/step - loss: 0.0814 - acc: 0.9758 - val_loss: 0.0948 - val_acc: 0.9769\n",
      "Epoch 14/20\n",
      "48000/48000 [==============================] - 2s 33us/step - loss: 0.0771 - acc: 0.9775 - val_loss: 0.0944 - val_acc: 0.9772\n",
      "Epoch 15/20\n",
      "48000/48000 [==============================] - 2s 33us/step - loss: 0.0774 - acc: 0.9771 - val_loss: 0.0959 - val_acc: 0.9773\n",
      "Epoch 16/20\n",
      "48000/48000 [==============================] - 2s 33us/step - loss: 0.0744 - acc: 0.9781 - val_loss: 0.0984 - val_acc: 0.9746\n",
      "Epoch 17/20\n",
      "48000/48000 [==============================] - 2s 34us/step - loss: 0.0724 - acc: 0.9791 - val_loss: 0.1028 - val_acc: 0.9773\n",
      "Epoch 18/20\n",
      "48000/48000 [==============================] - 2s 33us/step - loss: 0.0709 - acc: 0.9798 - val_loss: 0.0992 - val_acc: 0.9773\n",
      "Epoch 19/20\n",
      "48000/48000 [==============================] - 2s 33us/step - loss: 0.0697 - acc: 0.9801 - val_loss: 0.0955 - val_acc: 0.9794\n",
      "Epoch 20/20\n",
      "48000/48000 [==============================] - 2s 34us/step - loss: 0.0692 - acc: 0.9807 - val_loss: 0.1049 - val_acc: 0.9769\n",
      "10000/10000 [==============================] - 0s 25us/step\n",
      "Train on 48000 samples, validate on 12000 samples\n",
      "Epoch 1/20\n",
      "48000/48000 [==============================] - 2s 45us/step - loss: 0.5178 - acc: 0.8428 - val_loss: 0.1847 - val_acc: 0.9458\n",
      "Epoch 2/20\n",
      "48000/48000 [==============================] - 2s 36us/step - loss: 0.2346 - acc: 0.9311 - val_loss: 0.1443 - val_acc: 0.9580\n",
      "Epoch 3/20\n",
      "48000/48000 [==============================] - 2s 37us/step - loss: 0.1821 - acc: 0.9454 - val_loss: 0.1153 - val_acc: 0.9653\n",
      "Epoch 4/20\n",
      "48000/48000 [==============================] - 2s 36us/step - loss: 0.1532 - acc: 0.9544 - val_loss: 0.1061 - val_acc: 0.9683\n",
      "Epoch 5/20\n",
      "48000/48000 [==============================] - 2s 37us/step - loss: 0.1292 - acc: 0.9612 - val_loss: 0.0957 - val_acc: 0.9707\n",
      "Epoch 6/20\n",
      "48000/48000 [==============================] - 2s 36us/step - loss: 0.1164 - acc: 0.9640 - val_loss: 0.0918 - val_acc: 0.9720\n",
      "Epoch 7/20\n",
      "48000/48000 [==============================] - 2s 37us/step - loss: 0.1057 - acc: 0.9681 - val_loss: 0.0916 - val_acc: 0.9740\n",
      "Epoch 8/20\n",
      "48000/48000 [==============================] - 2s 38us/step - loss: 0.0960 - acc: 0.9697 - val_loss: 0.0901 - val_acc: 0.9738\n",
      "Epoch 9/20\n",
      "48000/48000 [==============================] - 2s 38us/step - loss: 0.0874 - acc: 0.9725 - val_loss: 0.0858 - val_acc: 0.9743\n",
      "Epoch 10/20\n",
      "48000/48000 [==============================] - 2s 37us/step - loss: 0.0842 - acc: 0.9741 - val_loss: 0.0859 - val_acc: 0.9752\n",
      "Epoch 11/20\n",
      "48000/48000 [==============================] - 2s 38us/step - loss: 0.0794 - acc: 0.9751 - val_loss: 0.0841 - val_acc: 0.9762\n",
      "Epoch 12/20\n",
      "48000/48000 [==============================] - 2s 37us/step - loss: 0.0757 - acc: 0.9768 - val_loss: 0.0869 - val_acc: 0.9754\n",
      "Epoch 13/20\n",
      "48000/48000 [==============================] - 2s 39us/step - loss: 0.0667 - acc: 0.9784 - val_loss: 0.0812 - val_acc: 0.9761\n",
      "Epoch 14/20\n",
      "48000/48000 [==============================] - 2s 38us/step - loss: 0.0684 - acc: 0.9781 - val_loss: 0.0901 - val_acc: 0.9747\n",
      "Epoch 15/20\n",
      "48000/48000 [==============================] - 2s 37us/step - loss: 0.0649 - acc: 0.9791 - val_loss: 0.0816 - val_acc: 0.9777\n",
      "Epoch 16/20\n",
      "48000/48000 [==============================] - 2s 37us/step - loss: 0.0604 - acc: 0.9804 - val_loss: 0.0861 - val_acc: 0.9761\n",
      "Epoch 17/20\n",
      "48000/48000 [==============================] - 2s 37us/step - loss: 0.0604 - acc: 0.9806 - val_loss: 0.0837 - val_acc: 0.9768\n",
      "Epoch 18/20\n",
      "48000/48000 [==============================] - 2s 34us/step - loss: 0.0575 - acc: 0.9811 - val_loss: 0.0841 - val_acc: 0.9772\n",
      "Epoch 19/20\n",
      "48000/48000 [==============================] - 2s 34us/step - loss: 0.0541 - acc: 0.9823 - val_loss: 0.0828 - val_acc: 0.9781\n",
      "Epoch 20/20\n",
      "48000/48000 [==============================] - 2s 34us/step - loss: 0.0534 - acc: 0.9832 - val_loss: 0.0829 - val_acc: 0.9781\n",
      "10000/10000 [==============================] - 0s 24us/step\n"
     ]
    }
   ],
   "source": [
    "optimizers = { 'SGD':SGD(), 'RMSprop':RMSprop(), 'Adam':Adam(lr=0.001) }\n",
    "\n",
    "results = {}\n",
    "test_results = {}\n",
    "\n",
    "for key in optimizers.keys():\n",
    "    \n",
    "    model = create_model_with_dropouts()\n",
    "    \n",
    "    model.compile(\n",
    "        loss='categorical_crossentropy', \n",
    "        optimizer=optimizers[key], \n",
    "        metrics=['accuracy'])\n",
    "\n",
    "    history = model.fit(\n",
    "        X_train, \n",
    "        Y_train, \n",
    "        batch_size=BATCH_SIZE, \n",
    "        epochs=NB_EPOCH, \n",
    "        verbose=VERBOSE, \n",
    "        validation_split=VALIDATION_SPLIT)\n",
    "    results[key] = history\n",
    "\n",
    "    score = model.evaluate(X_test, Y_test, verbose=VERBOSE)\n",
    "    test_results[key] = score\n",
    "    \n"
   ]
  },
  {
   "cell_type": "code",
   "execution_count": 53,
   "metadata": {},
   "outputs": [
    {
     "name": "stdout",
     "output_type": "stream",
     "text": [
      "optimizer: SGD\n",
      "* training acc:   0.887625\n",
      "* validation acc: 0.9258333331743877\n",
      "* test acc:       0.9402\n",
      "\n",
      "optimizer: RMSprop\n",
      "* training acc:   0.9736666666666667\n",
      "* validation acc: 0.9766666665077209\n",
      "* test acc:       0.9774\n",
      "\n",
      "optimizer: Adam\n",
      "* training acc:   0.9750625\n",
      "* validation acc: 0.976166666507721\n",
      "* test acc:       0.9791\n",
      "\n"
     ]
    }
   ],
   "source": [
    "for key in test_results.keys():\n",
    "    print('optimizer: ' + key)\n",
    "    print('* training acc:   ' + str(results[key].history['acc'][NB_CLASSES]))\n",
    "    print('* validation acc: ' + str(results[key].history['val_acc'][NB_CLASSES]))\n",
    "    print('* test acc:       ' + str(test_results[key][1]))\n",
    "    print()"
   ]
  },
  {
   "cell_type": "code",
   "execution_count": 54,
   "metadata": {},
   "outputs": [
    {
     "data": {
      "image/png": "[encoded data removed]",
      "text/plain": [
       "<Figure size 432x288 with 1 Axes>"
      ]
     },
     "metadata": {},
     "output_type": "display_data"
    },
    {
     "data": {
      "image/png": "[encoded data removed]",
      "text/plain": [
       "<Figure size 432x288 with 1 Axes>"
      ]
     },
     "metadata": {},
     "output_type": "display_data"
    },
    {
     "data": {
      "image/png": "[encoded data removed]",
      "text/plain": [
       "<Figure size 432x288 with 1 Axes>"
      ]
     },
     "metadata": {},
     "output_type": "display_data"
    }
   ],
   "source": [
    "for key in optimizers.keys():\n",
    "    plot_keras_history(\n",
    "        history=results[key], \n",
    "        epochs=NB_EPOCH, \n",
    "        title=key)"
   ]
  },
  {
   "cell_type": "code",
   "execution_count": null,
   "metadata": {},
   "outputs": [],
   "source": []
  }
 ],
 "metadata": {
  "kernelspec": {
   "display_name": "Python 3",
   "language": "python",
   "name": "python3"
  },
  "language_info": {
   "codemirror_mode": {
    "name": "ipython",
    "version": 3
   },
   "file_extension": ".py",
   "mimetype": "text/x-python",
   "name": "python",
   "nbconvert_exporter": "python",
   "pygments_lexer": "ipython3",
   "version": "3.6.4"
  }
 },
 "nbformat": 4,
 "nbformat_minor": 2
}
